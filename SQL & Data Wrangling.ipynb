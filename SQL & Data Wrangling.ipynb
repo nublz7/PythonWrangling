{
 "cells": [
  {
   "cell_type": "code",
   "execution_count": 1,
   "id": "96326f4f",
   "metadata": {
    "scrolled": true
   },
   "outputs": [],
   "source": [
    "import pandas as pd\n",
    "import sqlite3 as sq\n",
    "import numpy as np\n",
    "import matplotlib.pyplot as plt\n",
    "import seaborn as sns\n",
    "from datetime import datetime\n",
    "import warnings\n",
    "\n",
    "warnings.simplefilter(action='ignore', category=FutureWarning)\n",
    "\n",
    "cn = sq.connect('olist.db')\n",
    "qry = \"SELECT name FROM sqlite_master WHERE type='table';\"\n",
    "table = pd.read_sql_query(qry, cn)\n",
    "\n",
    "def check_nan(df):\n",
    "    nan = {'columns': [x for x in df.columns],\n",
    "           'nan_count': [x for x in df.isna().sum()],\n",
    "           'nan_%': [x for x in df.isna().sum() / len(df) * 100]\n",
    "          }\n",
    "    nan_test = pd.DataFrame(nan)\n",
    "    result = nan_test[nan_test['nan_count'] != 0].sort_values(by='nan_count', ascending=False).reset_index()\n",
    "    result = result.iloc[:, 1:]\n",
    "    pd.set_option('display.max_columns', len(df.columns))\n",
    "    pd.set_option('display.max_rows', len(df))\n",
    "    return result\n",
    "\n",
    "def check_non_blank(df, base_cols, count_cols, show='all'):\n",
    "    category = list(df[base_cols])\n",
    "    values = list(df[count_cols].isna())\n",
    "    result = {base_cols: category,\n",
    "              'blank': list(map(lambda x: 1 if x else 0, values)),\n",
    "              'not_blank': list(map(lambda x: 0 if x else 1, values))\n",
    "             }\n",
    "    df_result = pd.DataFrame(result)\n",
    "    \n",
    "    pd.set_option('display.max_columns', len(df.columns))\n",
    "    pd.set_option('display.max_rows', len(df))\n",
    "    \n",
    "    if show == 'all':\n",
    "        return df_result.groupby(base_cols).sum()\n",
    "    elif show == 'blank':\n",
    "        return df_result[df_result['blank'] > 0].groupby(base_cols).sum()\n",
    "    elif show == 'not_blank':\n",
    "        return df_result[df_result['not_blank'] > 0].groupby(base_cols).sum()\n",
    "    else:\n",
    "        raise ValueError(\"Invalid value for 'show' parameter. Use 'all', 'blank', or 'not-blank'.\")"
   ]
  },
  {
   "cell_type": "code",
   "execution_count": 2,
   "id": "390122d7",
   "metadata": {},
   "outputs": [],
   "source": [
    "# declare every single table to variables\n",
    "customer = pd.read_sql_query(\"SELECT * FROM olist_order_customer_dataset\", cn)\n",
    "order = pd.read_sql_query(\"SELECT * FROM olist_order_dataset\", cn)\n",
    "order_list = pd.read_sql_query(\"SELECT * FROM olist_order_items_dataset\", cn)\n",
    "review = pd.read_sql_query(\"SELECT * FROM olist_order_reviews_dataset\", cn)\n",
    "payment = pd.read_sql_query(\"SELECT * FROM olist_order_payments_dataset\", cn)\n",
    "product = pd.read_sql_query(\"SELECT * FROM olist_products_dataset\", cn)\n",
    "seller = pd.read_sql_query(\"SELECT * FROM olist_sellers_dataset\", cn)\n",
    "location = pd.read_sql_query(\"SELECT * FROM olist_geolocation_dataset\", cn)\n",
    "\n",
    "# helper table table for state name\n",
    "state = pd.read_csv('C:/Users/NublzPC/OneDrive/Pacmann/SQL Data Wrangling/project/brazil_state.csv')\n",
    "translate = pd.read_sql_query(\"SELECT * FROM product_category_name_translation\", cn)"
   ]
  },
  {
   "cell_type": "markdown",
   "id": "98591450",
   "metadata": {},
   "source": [
    "# PERSONAL NOTE"
   ]
  },
  {
   "cell_type": "code",
   "execution_count": 3,
   "id": "0721c043",
   "metadata": {},
   "outputs": [],
   "source": [
    "# merge necesary df to 1 single df\n",
    "main_df = order_list.merge(order, on='order_id', how='outer')\n",
    "main_df = main_df.merge(review[['order_id', 'review_score']],\n",
    "                        on='order_id', how='left')\n",
    "main_df = main_df.merge(product[['product_id', 'product_category_name', 'product_photos_qty']],\n",
    "                       on='product_id', how='left')\n",
    "main_df = main_df.merge(translate[['product_category_name', 'product_category_name_english']],\n",
    "                       on='product_category_name', how='left')\n",
    "main_df = main_df.merge(customer[['customer_id', 'customer_state']],\n",
    "                       on='customer_id', how='left')\n",
    "main_df = main_df.merge(seller[['seller_id', 'seller_state']],\n",
    "                       on='seller_id', how='left')\n",
    "main_df = main_df.merge(state[['geolocation_state', 'name']],\n",
    "                       left_on='customer_state',\n",
    "                       right_on='geolocation_state',\n",
    "                       how='left')\n",
    "main_df = main_df.merge(state[['geolocation_state', 'name']],\n",
    "                       left_on='seller_state',\n",
    "                       right_on='geolocation_state',\n",
    "                       how='left')"
   ]
  },
  {
   "cell_type": "code",
   "execution_count": 4,
   "id": "9e0e8de6",
   "metadata": {},
   "outputs": [
    {
     "name": "stdout",
     "output_type": "stream",
     "text": [
      "<class 'pandas.core.frame.DataFrame'>\n",
      "Int64Index: 114092 entries, 0 to 114091\n",
      "Data columns (total 22 columns):\n",
      " #   Column                         Non-Null Count   Dtype  \n",
      "---  ------                         --------------   -----  \n",
      " 0   index_x                        113314 non-null  float64\n",
      " 1   order_id                       114092 non-null  object \n",
      " 2   order_item_id                  113314 non-null  float64\n",
      " 3   product_id                     113314 non-null  object \n",
      " 4   seller_id                      113314 non-null  object \n",
      " 5   shipping_limit_date            113314 non-null  object \n",
      " 6   price                          113314 non-null  float64\n",
      " 7   freight_value                  113314 non-null  float64\n",
      " 8   index_y                        114092 non-null  int64  \n",
      " 9   customer_id                    114092 non-null  object \n",
      " 10  order_status                   114092 non-null  object \n",
      " 11  order_purchase_timestamp       114092 non-null  object \n",
      " 12  order_approved_at              113930 non-null  object \n",
      " 13  order_delivered_carrier_date   112112 non-null  object \n",
      " 14  order_delivered_customer_date  110839 non-null  object \n",
      " 15  order_estimated_delivery_date  114092 non-null  object \n",
      " 16  review_score                   113131 non-null  float64\n",
      " 17  product_category_name          111702 non-null  object \n",
      " 18  product_photos_qty             111702 non-null  float64\n",
      " 19  product_category_name_english  111678 non-null  object \n",
      " 20  customer_state                 114092 non-null  object \n",
      " 21  seller_state                   113314 non-null  object \n",
      "dtypes: float64(6), int64(1), object(15)\n",
      "memory usage: 20.0+ MB\n"
     ]
    }
   ],
   "source": [
    "# drop several column\n",
    "main_df.drop(columns=['customer_state', 'seller_state', 'geolocation_state_x', 'geolocation_state_y'], \n",
    "        inplace=True)\n",
    "\n",
    "# rename ambiguous column\n",
    "main_df = main_df.rename(columns={'name_x': 'customer_state',\n",
    "                                  'name_y': 'seller_state'})\n",
    "\n",
    "# gerenal check\n",
    "main_df.info()"
   ]
  },
  {
   "cell_type": "code",
   "execution_count": 5,
   "id": "3d39528e",
   "metadata": {
    "scrolled": false
   },
   "outputs": [
    {
     "name": "stdout",
     "output_type": "stream",
     "text": [
      "<class 'pandas.core.frame.DataFrame'>\n",
      "Int64Index: 114092 entries, 0 to 114091\n",
      "Data columns (total 22 columns):\n",
      " #   Column                         Non-Null Count   Dtype  \n",
      "---  ------                         --------------   -----  \n",
      " 0   index_x                        113314 non-null  float64\n",
      " 1   order_id                       114092 non-null  object \n",
      " 2   order_item_id                  113314 non-null  float64\n",
      " 3   product_id                     113314 non-null  object \n",
      " 4   seller_id                      113314 non-null  object \n",
      " 5   shipping_limit_date            113314 non-null  object \n",
      " 6   price                          113314 non-null  float64\n",
      " 7   freight_value                  113314 non-null  float64\n",
      " 8   index_y                        114092 non-null  int64  \n",
      " 9   customer_id                    114092 non-null  object \n",
      " 10  order_status                   114092 non-null  object \n",
      " 11  order_purchase_timestamp       114092 non-null  object \n",
      " 12  order_approved_at              113930 non-null  object \n",
      " 13  order_delivered_carrier_date   112112 non-null  object \n",
      " 14  order_delivered_customer_date  110839 non-null  object \n",
      " 15  order_estimated_delivery_date  114092 non-null  object \n",
      " 16  review_score                   113131 non-null  float64\n",
      " 17  product_category_name          111702 non-null  object \n",
      " 18  product_photos_qty             111702 non-null  float64\n",
      " 19  product_category_name_english  111678 non-null  object \n",
      " 20  customer_state                 114092 non-null  object \n",
      " 21  seller_state                   113314 non-null  object \n",
      "dtypes: float64(6), int64(1), object(15)\n",
      "memory usage: 20.0+ MB\n"
     ]
    }
   ],
   "source": [
    "main_df.info()"
   ]
  },
  {
   "cell_type": "code",
   "execution_count": 6,
   "id": "0089e4d5",
   "metadata": {},
   "outputs": [],
   "source": [
    "# membuat copy dari dataframe untuk backup\n",
    "copied_df = main_df.copy()\n",
    "\n",
    "# mengubah view agar bisa menampilkan semua nama kolom\n",
    "pd.set_option('display.max_columns', len(copied_df.columns))\n",
    "\n",
    "# ubah urutan kolom untuk mempermudah pengecekan\n",
    "copied_df = copied_df[['order_id',\n",
    "'order_item_id',\n",
    "'product_id',\n",
    "'seller_id',\n",
    "'seller_state',         \n",
    "'customer_id',\n",
    "'customer_state',\n",
    "'order_status',\n",
    "'price',\n",
    "'freight_value',\n",
    "'order_purchase_timestamp',\n",
    "'order_approved_at',\n",
    "'shipping_limit_date',\n",
    "'order_delivered_carrier_date',\n",
    "'order_estimated_delivery_date',\n",
    "'order_delivered_customer_date',\n",
    "'review_score',\n",
    "'product_category_name',\n",
    "'product_photos_qty',\n",
    "'product_category_name_english']]"
   ]
  },
  {
   "cell_type": "markdown",
   "id": "c6447f5f",
   "metadata": {},
   "source": [
    "# 1. Parsing Date"
   ]
  },
  {
   "cell_type": "code",
   "execution_count": 7,
   "id": "d6447484",
   "metadata": {},
   "outputs": [
    {
     "name": "stdout",
     "output_type": "stream",
     "text": [
      "<class 'pandas.core.frame.DataFrame'>\n",
      "Int64Index: 114092 entries, 0 to 114091\n",
      "Data columns (total 20 columns):\n",
      " #   Column                         Non-Null Count   Dtype  \n",
      "---  ------                         --------------   -----  \n",
      " 0   order_id                       114092 non-null  object \n",
      " 1   order_item_id                  113314 non-null  float64\n",
      " 2   product_id                     113314 non-null  object \n",
      " 3   seller_id                      113314 non-null  object \n",
      " 4   seller_state                   113314 non-null  object \n",
      " 5   customer_id                    114092 non-null  object \n",
      " 6   customer_state                 114092 non-null  object \n",
      " 7   order_status                   114092 non-null  object \n",
      " 8   price                          113314 non-null  float64\n",
      " 9   freight_value                  113314 non-null  float64\n",
      " 10  order_purchase_timestamp       114092 non-null  object \n",
      " 11  order_approved_at              113930 non-null  object \n",
      " 12  shipping_limit_date            113314 non-null  object \n",
      " 13  order_delivered_carrier_date   112112 non-null  object \n",
      " 14  order_estimated_delivery_date  114092 non-null  object \n",
      " 15  order_delivered_customer_date  110839 non-null  object \n",
      " 16  review_score                   113131 non-null  float64\n",
      " 17  product_category_name          111702 non-null  object \n",
      " 18  product_photos_qty             111702 non-null  float64\n",
      " 19  product_category_name_english  111678 non-null  object \n",
      "dtypes: float64(5), object(15)\n",
      "memory usage: 18.3+ MB\n"
     ]
    }
   ],
   "source": [
    "copied_df.info()"
   ]
  },
  {
   "cell_type": "code",
   "execution_count": 8,
   "id": "48a5666f",
   "metadata": {},
   "outputs": [],
   "source": [
    "# change date stored as object to datetime format\n",
    "copied_df.order_purchase_timestamp = pd.to_datetime(copied_df.order_purchase_timestamp)\n",
    "copied_df.order_approved_at = pd.to_datetime(copied_df.order_approved_at)\n",
    "copied_df.order_delivered_carrier_date = pd.to_datetime(copied_df.order_delivered_carrier_date)\n",
    "copied_df.order_delivered_customer_date = pd.to_datetime(copied_df.order_delivered_customer_date)\n",
    "copied_df.order_estimated_delivery_date = pd.to_datetime(copied_df.order_estimated_delivery_date)\n",
    "copied_df.shipping_limit_date = pd.to_datetime(main_df.shipping_limit_date)"
   ]
  },
  {
   "cell_type": "markdown",
   "id": "50028493",
   "metadata": {},
   "source": [
    "# 2. Cleaning Data\n",
    "## 2.1 Check missing values"
   ]
  },
  {
   "cell_type": "code",
   "execution_count": 9,
   "id": "3aa82c36",
   "metadata": {},
   "outputs": [
    {
     "data": {
      "text/html": [
       "<div>\n",
       "<style scoped>\n",
       "    .dataframe tbody tr th:only-of-type {\n",
       "        vertical-align: middle;\n",
       "    }\n",
       "\n",
       "    .dataframe tbody tr th {\n",
       "        vertical-align: top;\n",
       "    }\n",
       "\n",
       "    .dataframe thead th {\n",
       "        text-align: right;\n",
       "    }\n",
       "</style>\n",
       "<table border=\"1\" class=\"dataframe\">\n",
       "  <thead>\n",
       "    <tr style=\"text-align: right;\">\n",
       "      <th></th>\n",
       "      <th>columns</th>\n",
       "      <th>nan_count</th>\n",
       "      <th>nan_%</th>\n",
       "    </tr>\n",
       "  </thead>\n",
       "  <tbody>\n",
       "    <tr>\n",
       "      <th>0</th>\n",
       "      <td>order_delivered_customer_date</td>\n",
       "      <td>3253</td>\n",
       "      <td>2.851208</td>\n",
       "    </tr>\n",
       "    <tr>\n",
       "      <th>1</th>\n",
       "      <td>product_category_name_english</td>\n",
       "      <td>2414</td>\n",
       "      <td>2.115836</td>\n",
       "    </tr>\n",
       "    <tr>\n",
       "      <th>2</th>\n",
       "      <td>product_category_name</td>\n",
       "      <td>2390</td>\n",
       "      <td>2.094801</td>\n",
       "    </tr>\n",
       "    <tr>\n",
       "      <th>3</th>\n",
       "      <td>product_photos_qty</td>\n",
       "      <td>2390</td>\n",
       "      <td>2.094801</td>\n",
       "    </tr>\n",
       "    <tr>\n",
       "      <th>4</th>\n",
       "      <td>order_delivered_carrier_date</td>\n",
       "      <td>1980</td>\n",
       "      <td>1.735442</td>\n",
       "    </tr>\n",
       "    <tr>\n",
       "      <th>5</th>\n",
       "      <td>review_score</td>\n",
       "      <td>961</td>\n",
       "      <td>0.842303</td>\n",
       "    </tr>\n",
       "    <tr>\n",
       "      <th>6</th>\n",
       "      <td>order_item_id</td>\n",
       "      <td>778</td>\n",
       "      <td>0.681906</td>\n",
       "    </tr>\n",
       "    <tr>\n",
       "      <th>7</th>\n",
       "      <td>product_id</td>\n",
       "      <td>778</td>\n",
       "      <td>0.681906</td>\n",
       "    </tr>\n",
       "    <tr>\n",
       "      <th>8</th>\n",
       "      <td>seller_id</td>\n",
       "      <td>778</td>\n",
       "      <td>0.681906</td>\n",
       "    </tr>\n",
       "    <tr>\n",
       "      <th>9</th>\n",
       "      <td>seller_state</td>\n",
       "      <td>778</td>\n",
       "      <td>0.681906</td>\n",
       "    </tr>\n",
       "    <tr>\n",
       "      <th>10</th>\n",
       "      <td>price</td>\n",
       "      <td>778</td>\n",
       "      <td>0.681906</td>\n",
       "    </tr>\n",
       "    <tr>\n",
       "      <th>11</th>\n",
       "      <td>freight_value</td>\n",
       "      <td>778</td>\n",
       "      <td>0.681906</td>\n",
       "    </tr>\n",
       "    <tr>\n",
       "      <th>12</th>\n",
       "      <td>shipping_limit_date</td>\n",
       "      <td>778</td>\n",
       "      <td>0.681906</td>\n",
       "    </tr>\n",
       "    <tr>\n",
       "      <th>13</th>\n",
       "      <td>order_approved_at</td>\n",
       "      <td>162</td>\n",
       "      <td>0.141991</td>\n",
       "    </tr>\n",
       "  </tbody>\n",
       "</table>\n",
       "</div>"
      ],
      "text/plain": [
       "                          columns  nan_count     nan_%\n",
       "0   order_delivered_customer_date       3253  2.851208\n",
       "1   product_category_name_english       2414  2.115836\n",
       "2           product_category_name       2390  2.094801\n",
       "3              product_photos_qty       2390  2.094801\n",
       "4    order_delivered_carrier_date       1980  1.735442\n",
       "5                    review_score        961  0.842303\n",
       "6                   order_item_id        778  0.681906\n",
       "7                      product_id        778  0.681906\n",
       "8                       seller_id        778  0.681906\n",
       "9                    seller_state        778  0.681906\n",
       "10                          price        778  0.681906\n",
       "11                  freight_value        778  0.681906\n",
       "12            shipping_limit_date        778  0.681906\n",
       "13              order_approved_at        162  0.141991"
      ]
     },
     "execution_count": 9,
     "metadata": {},
     "output_type": "execute_result"
    }
   ],
   "source": [
    "# check\n",
    "check_nan(copied_df)"
   ]
  },
  {
   "cell_type": "markdown",
   "id": "9e67e24b",
   "metadata": {},
   "source": [
    "#### 2.1.1 Missing values di kolom `product_id`"
   ]
  },
  {
   "cell_type": "code",
   "execution_count": 10,
   "id": "e96c397f",
   "metadata": {},
   "outputs": [
    {
     "data": {
      "text/html": [
       "<div>\n",
       "<style scoped>\n",
       "    .dataframe tbody tr th:only-of-type {\n",
       "        vertical-align: middle;\n",
       "    }\n",
       "\n",
       "    .dataframe tbody tr th {\n",
       "        vertical-align: top;\n",
       "    }\n",
       "\n",
       "    .dataframe thead th {\n",
       "        text-align: right;\n",
       "    }\n",
       "</style>\n",
       "<table border=\"1\" class=\"dataframe\">\n",
       "  <thead>\n",
       "    <tr style=\"text-align: right;\">\n",
       "      <th></th>\n",
       "      <th>columns</th>\n",
       "      <th>nan_count</th>\n",
       "      <th>nan_%</th>\n",
       "    </tr>\n",
       "  </thead>\n",
       "  <tbody>\n",
       "    <tr>\n",
       "      <th>0</th>\n",
       "      <td>order_delivered_customer_date</td>\n",
       "      <td>2475</td>\n",
       "      <td>2.184196</td>\n",
       "    </tr>\n",
       "    <tr>\n",
       "      <th>1</th>\n",
       "      <td>product_category_name_english</td>\n",
       "      <td>1636</td>\n",
       "      <td>1.443776</td>\n",
       "    </tr>\n",
       "    <tr>\n",
       "      <th>2</th>\n",
       "      <td>product_category_name</td>\n",
       "      <td>1612</td>\n",
       "      <td>1.422596</td>\n",
       "    </tr>\n",
       "    <tr>\n",
       "      <th>3</th>\n",
       "      <td>product_photos_qty</td>\n",
       "      <td>1612</td>\n",
       "      <td>1.422596</td>\n",
       "    </tr>\n",
       "    <tr>\n",
       "      <th>4</th>\n",
       "      <td>order_delivered_carrier_date</td>\n",
       "      <td>1203</td>\n",
       "      <td>1.061652</td>\n",
       "    </tr>\n",
       "    <tr>\n",
       "      <th>5</th>\n",
       "      <td>review_score</td>\n",
       "      <td>942</td>\n",
       "      <td>0.831318</td>\n",
       "    </tr>\n",
       "    <tr>\n",
       "      <th>6</th>\n",
       "      <td>order_approved_at</td>\n",
       "      <td>15</td>\n",
       "      <td>0.013238</td>\n",
       "    </tr>\n",
       "  </tbody>\n",
       "</table>\n",
       "</div>"
      ],
      "text/plain": [
       "                         columns  nan_count     nan_%\n",
       "0  order_delivered_customer_date       2475  2.184196\n",
       "1  product_category_name_english       1636  1.443776\n",
       "2          product_category_name       1612  1.422596\n",
       "3             product_photos_qty       1612  1.422596\n",
       "4   order_delivered_carrier_date       1203  1.061652\n",
       "5                   review_score        942  0.831318\n",
       "6              order_approved_at         15  0.013238"
      ]
     },
     "execution_count": 10,
     "metadata": {},
     "output_type": "execute_result"
    }
   ],
   "source": [
    "# drop row that contain na in column product_id because this is a key column\n",
    "copied_df = copied_df.dropna(subset=['product_id'])\n",
    "check_nan(copied_df)"
   ]
  },
  {
   "cell_type": "markdown",
   "id": "243c0572",
   "metadata": {},
   "source": [
    "#### 2.1.2 Missing values di kolom `order_delivered_customer_date`"
   ]
  },
  {
   "cell_type": "code",
   "execution_count": 11,
   "id": "0f3c2191",
   "metadata": {
    "scrolled": false
   },
   "outputs": [
    {
     "data": {
      "text/html": [
       "<div>\n",
       "<style scoped>\n",
       "    .dataframe tbody tr th:only-of-type {\n",
       "        vertical-align: middle;\n",
       "    }\n",
       "\n",
       "    .dataframe tbody tr th {\n",
       "        vertical-align: top;\n",
       "    }\n",
       "\n",
       "    .dataframe thead th {\n",
       "        text-align: right;\n",
       "    }\n",
       "</style>\n",
       "<table border=\"1\" class=\"dataframe\">\n",
       "  <thead>\n",
       "    <tr style=\"text-align: right;\">\n",
       "      <th></th>\n",
       "      <th>blank</th>\n",
       "      <th>not_blank</th>\n",
       "    </tr>\n",
       "    <tr>\n",
       "      <th>order_status</th>\n",
       "      <th></th>\n",
       "      <th></th>\n",
       "    </tr>\n",
       "  </thead>\n",
       "  <tbody>\n",
       "    <tr>\n",
       "      <th>approved</th>\n",
       "      <td>3</td>\n",
       "      <td>0</td>\n",
       "    </tr>\n",
       "    <tr>\n",
       "      <th>canceled</th>\n",
       "      <td>539</td>\n",
       "      <td>7</td>\n",
       "    </tr>\n",
       "    <tr>\n",
       "      <th>delivered</th>\n",
       "      <td>8</td>\n",
       "      <td>110832</td>\n",
       "    </tr>\n",
       "    <tr>\n",
       "      <th>invoiced</th>\n",
       "      <td>364</td>\n",
       "      <td>0</td>\n",
       "    </tr>\n",
       "    <tr>\n",
       "      <th>processing</th>\n",
       "      <td>358</td>\n",
       "      <td>0</td>\n",
       "    </tr>\n",
       "    <tr>\n",
       "      <th>shipped</th>\n",
       "      <td>1196</td>\n",
       "      <td>0</td>\n",
       "    </tr>\n",
       "    <tr>\n",
       "      <th>unavailable</th>\n",
       "      <td>7</td>\n",
       "      <td>0</td>\n",
       "    </tr>\n",
       "  </tbody>\n",
       "</table>\n",
       "</div>"
      ],
      "text/plain": [
       "              blank  not_blank\n",
       "order_status                  \n",
       "approved          3          0\n",
       "canceled        539          7\n",
       "delivered         8     110832\n",
       "invoiced        364          0\n",
       "processing      358          0\n",
       "shipped        1196          0\n",
       "unavailable       7          0"
      ]
     },
     "execution_count": 11,
     "metadata": {},
     "output_type": "execute_result"
    }
   ],
   "source": [
    "# cek jumlah null di setiap order_status\n",
    "check_non_blank(copied_df,\n",
    "                'order_status',\n",
    "                'order_delivered_customer_date')"
   ]
  },
  {
   "cell_type": "markdown",
   "id": "2a59565a",
   "metadata": {},
   "source": [
    "apabila _order_status_ sudah delivered tetapi _order_delivered_customer_date_ masih null, maka akan diisi dengan value dari kolom _order_estimated_delivery_date_ dan dapat diasumsikan pengiriman tersebut tepat waktu."
   ]
  },
  {
   "cell_type": "code",
   "execution_count": 12,
   "id": "e681c94d",
   "metadata": {
    "scrolled": false
   },
   "outputs": [
    {
     "data": {
      "text/html": [
       "<div>\n",
       "<style scoped>\n",
       "    .dataframe tbody tr th:only-of-type {\n",
       "        vertical-align: middle;\n",
       "    }\n",
       "\n",
       "    .dataframe tbody tr th {\n",
       "        vertical-align: top;\n",
       "    }\n",
       "\n",
       "    .dataframe thead th {\n",
       "        text-align: right;\n",
       "    }\n",
       "</style>\n",
       "<table border=\"1\" class=\"dataframe\">\n",
       "  <thead>\n",
       "    <tr style=\"text-align: right;\">\n",
       "      <th></th>\n",
       "      <th>columns</th>\n",
       "      <th>nan_count</th>\n",
       "      <th>nan_%</th>\n",
       "    </tr>\n",
       "  </thead>\n",
       "  <tbody>\n",
       "    <tr>\n",
       "      <th>0</th>\n",
       "      <td>order_delivered_customer_date</td>\n",
       "      <td>2467</td>\n",
       "      <td>2.177136</td>\n",
       "    </tr>\n",
       "    <tr>\n",
       "      <th>1</th>\n",
       "      <td>product_category_name_english</td>\n",
       "      <td>1636</td>\n",
       "      <td>1.443776</td>\n",
       "    </tr>\n",
       "    <tr>\n",
       "      <th>2</th>\n",
       "      <td>product_category_name</td>\n",
       "      <td>1612</td>\n",
       "      <td>1.422596</td>\n",
       "    </tr>\n",
       "    <tr>\n",
       "      <th>3</th>\n",
       "      <td>product_photos_qty</td>\n",
       "      <td>1612</td>\n",
       "      <td>1.422596</td>\n",
       "    </tr>\n",
       "    <tr>\n",
       "      <th>4</th>\n",
       "      <td>order_delivered_carrier_date</td>\n",
       "      <td>1203</td>\n",
       "      <td>1.061652</td>\n",
       "    </tr>\n",
       "    <tr>\n",
       "      <th>5</th>\n",
       "      <td>review_score</td>\n",
       "      <td>942</td>\n",
       "      <td>0.831318</td>\n",
       "    </tr>\n",
       "    <tr>\n",
       "      <th>6</th>\n",
       "      <td>order_approved_at</td>\n",
       "      <td>15</td>\n",
       "      <td>0.013238</td>\n",
       "    </tr>\n",
       "  </tbody>\n",
       "</table>\n",
       "</div>"
      ],
      "text/plain": [
       "                         columns  nan_count     nan_%\n",
       "0  order_delivered_customer_date       2467  2.177136\n",
       "1  product_category_name_english       1636  1.443776\n",
       "2          product_category_name       1612  1.422596\n",
       "3             product_photos_qty       1612  1.422596\n",
       "4   order_delivered_carrier_date       1203  1.061652\n",
       "5                   review_score        942  0.831318\n",
       "6              order_approved_at         15  0.013238"
      ]
     },
     "execution_count": 12,
     "metadata": {},
     "output_type": "execute_result"
    }
   ],
   "source": [
    "# fill na menggunakan np.where()\n",
    "copied_df['order_delivered_customer_date'] = np.where(\n",
    "    (copied_df['order_status'] == 'delivered') & (copied_df['order_delivered_customer_date'].isna()),\n",
    "    copied_df['order_estimated_delivery_date'],\n",
    "    copied_df['order_delivered_customer_date'])\n",
    "\n",
    "check_nan(copied_df)"
   ]
  },
  {
   "cell_type": "markdown",
   "id": "ec8f72ce",
   "metadata": {},
   "source": [
    "#### 2.1.3 Missing values di kolom `order_approved_at`"
   ]
  },
  {
   "cell_type": "code",
   "execution_count": 13,
   "id": "55e81444",
   "metadata": {
    "scrolled": true
   },
   "outputs": [
    {
     "data": {
      "text/html": [
       "<div>\n",
       "<style scoped>\n",
       "    .dataframe tbody tr th:only-of-type {\n",
       "        vertical-align: middle;\n",
       "    }\n",
       "\n",
       "    .dataframe tbody tr th {\n",
       "        vertical-align: top;\n",
       "    }\n",
       "\n",
       "    .dataframe thead th {\n",
       "        text-align: right;\n",
       "    }\n",
       "</style>\n",
       "<table border=\"1\" class=\"dataframe\">\n",
       "  <thead>\n",
       "    <tr style=\"text-align: right;\">\n",
       "      <th></th>\n",
       "      <th>blank</th>\n",
       "      <th>not_blank</th>\n",
       "    </tr>\n",
       "    <tr>\n",
       "      <th>order_status</th>\n",
       "      <th></th>\n",
       "      <th></th>\n",
       "    </tr>\n",
       "  </thead>\n",
       "  <tbody>\n",
       "    <tr>\n",
       "      <th>approved</th>\n",
       "      <td>0</td>\n",
       "      <td>3</td>\n",
       "    </tr>\n",
       "    <tr>\n",
       "      <th>canceled</th>\n",
       "      <td>0</td>\n",
       "      <td>546</td>\n",
       "    </tr>\n",
       "    <tr>\n",
       "      <th>delivered</th>\n",
       "      <td>15</td>\n",
       "      <td>110825</td>\n",
       "    </tr>\n",
       "    <tr>\n",
       "      <th>invoiced</th>\n",
       "      <td>0</td>\n",
       "      <td>364</td>\n",
       "    </tr>\n",
       "    <tr>\n",
       "      <th>processing</th>\n",
       "      <td>0</td>\n",
       "      <td>358</td>\n",
       "    </tr>\n",
       "    <tr>\n",
       "      <th>shipped</th>\n",
       "      <td>0</td>\n",
       "      <td>1196</td>\n",
       "    </tr>\n",
       "    <tr>\n",
       "      <th>unavailable</th>\n",
       "      <td>0</td>\n",
       "      <td>7</td>\n",
       "    </tr>\n",
       "  </tbody>\n",
       "</table>\n",
       "</div>"
      ],
      "text/plain": [
       "              blank  not_blank\n",
       "order_status                  \n",
       "approved          0          3\n",
       "canceled          0        546\n",
       "delivered        15     110825\n",
       "invoiced          0        364\n",
       "processing        0        358\n",
       "shipped           0       1196\n",
       "unavailable       0          7"
      ]
     },
     "execution_count": 13,
     "metadata": {},
     "output_type": "execute_result"
    }
   ],
   "source": [
    "# check order_status untuk setiap missing value di kolom _order_approved_at_ \n",
    "check_non_blank(copied_df, 'order_status', 'order_approved_at')"
   ]
  },
  {
   "cell_type": "code",
   "execution_count": 14,
   "id": "9d389b3e",
   "metadata": {
    "scrolled": false
   },
   "outputs": [
    {
     "data": {
      "text/html": [
       "<div>\n",
       "<style scoped>\n",
       "    .dataframe tbody tr th:only-of-type {\n",
       "        vertical-align: middle;\n",
       "    }\n",
       "\n",
       "    .dataframe tbody tr th {\n",
       "        vertical-align: top;\n",
       "    }\n",
       "\n",
       "    .dataframe thead th {\n",
       "        text-align: right;\n",
       "    }\n",
       "</style>\n",
       "<table border=\"1\" class=\"dataframe\">\n",
       "  <thead>\n",
       "    <tr style=\"text-align: right;\">\n",
       "      <th></th>\n",
       "      <th>columns</th>\n",
       "      <th>nan_count</th>\n",
       "      <th>nan_%</th>\n",
       "    </tr>\n",
       "  </thead>\n",
       "  <tbody>\n",
       "    <tr>\n",
       "      <th>0</th>\n",
       "      <td>order_delivered_customer_date</td>\n",
       "      <td>2467</td>\n",
       "      <td>2.177136</td>\n",
       "    </tr>\n",
       "    <tr>\n",
       "      <th>1</th>\n",
       "      <td>product_category_name_english</td>\n",
       "      <td>1636</td>\n",
       "      <td>1.443776</td>\n",
       "    </tr>\n",
       "    <tr>\n",
       "      <th>2</th>\n",
       "      <td>product_category_name</td>\n",
       "      <td>1612</td>\n",
       "      <td>1.422596</td>\n",
       "    </tr>\n",
       "    <tr>\n",
       "      <th>3</th>\n",
       "      <td>product_photos_qty</td>\n",
       "      <td>1612</td>\n",
       "      <td>1.422596</td>\n",
       "    </tr>\n",
       "    <tr>\n",
       "      <th>4</th>\n",
       "      <td>order_delivered_carrier_date</td>\n",
       "      <td>1203</td>\n",
       "      <td>1.061652</td>\n",
       "    </tr>\n",
       "    <tr>\n",
       "      <th>5</th>\n",
       "      <td>review_score</td>\n",
       "      <td>942</td>\n",
       "      <td>0.831318</td>\n",
       "    </tr>\n",
       "  </tbody>\n",
       "</table>\n",
       "</div>"
      ],
      "text/plain": [
       "                         columns  nan_count     nan_%\n",
       "0  order_delivered_customer_date       2467  2.177136\n",
       "1  product_category_name_english       1636  1.443776\n",
       "2          product_category_name       1612  1.422596\n",
       "3             product_photos_qty       1612  1.422596\n",
       "4   order_delivered_carrier_date       1203  1.061652\n",
       "5                   review_score        942  0.831318"
      ]
     },
     "execution_count": 14,
     "metadata": {},
     "output_type": "execute_result"
    }
   ],
   "source": [
    "# fill na menggunakan np.where()\n",
    "copied_df['order_approved_at'] = np.where(copied_df['order_approved_at'].isna(),\n",
    "                                        copied_df['order_purchase_timestamp'],\n",
    "                                        copied_df['order_approved_at'])\n",
    "\n",
    "check_nan(copied_df)"
   ]
  },
  {
   "cell_type": "markdown",
   "id": "1031dd26",
   "metadata": {},
   "source": [
    "#### 2.1.4 Missing values di kolom `product_category_name_english`\n",
    "value di kolom _product_category_name_english_ null dikarenakan value pada kolom _product_category_name_ juga null, atau bisa juga dikarenakan _product_category_name_ tidak tercatat di tabel _product_. Untuk mengatasi masalah ini dilakukan inputing sebagai berikut\n",
    " - kategori pc_gamer akan diinput ke `product_category_name_english` dikarenakan itu sudah berbahasa Inggris\n",
    " - untuk kategori lainnya akan diubah menjadi `others`"
   ]
  },
  {
   "cell_type": "code",
   "execution_count": 15,
   "id": "be9c04e7",
   "metadata": {
    "scrolled": false
   },
   "outputs": [
    {
     "data": {
      "text/html": [
       "<div>\n",
       "<style scoped>\n",
       "    .dataframe tbody tr th:only-of-type {\n",
       "        vertical-align: middle;\n",
       "    }\n",
       "\n",
       "    .dataframe tbody tr th {\n",
       "        vertical-align: top;\n",
       "    }\n",
       "\n",
       "    .dataframe thead th {\n",
       "        text-align: right;\n",
       "    }\n",
       "</style>\n",
       "<table border=\"1\" class=\"dataframe\">\n",
       "  <thead>\n",
       "    <tr style=\"text-align: right;\">\n",
       "      <th></th>\n",
       "      <th>blank</th>\n",
       "      <th>not_blank</th>\n",
       "    </tr>\n",
       "    <tr>\n",
       "      <th>product_category_name</th>\n",
       "      <th></th>\n",
       "      <th></th>\n",
       "    </tr>\n",
       "  </thead>\n",
       "  <tbody>\n",
       "    <tr>\n",
       "      <th>pc_gamer</th>\n",
       "      <td>9</td>\n",
       "      <td>0</td>\n",
       "    </tr>\n",
       "    <tr>\n",
       "      <th>portateis_cozinha_e_preparadores_de_alimentos</th>\n",
       "      <td>15</td>\n",
       "      <td>0</td>\n",
       "    </tr>\n",
       "  </tbody>\n",
       "</table>\n",
       "</div>"
      ],
      "text/plain": [
       "                                               blank  not_blank\n",
       "product_category_name                                          \n",
       "pc_gamer                                           9          0\n",
       "portateis_cozinha_e_preparadores_de_alimentos     15          0"
      ]
     },
     "execution_count": 15,
     "metadata": {},
     "output_type": "execute_result"
    }
   ],
   "source": [
    "# check setiap product_category_name yang value dari product_category_name_english adalah Na\n",
    "check_non_blank(copied_df, 'product_category_name', 'product_category_name_english', show='blank')"
   ]
  },
  {
   "cell_type": "code",
   "execution_count": 16,
   "id": "85143e18",
   "metadata": {
    "scrolled": false
   },
   "outputs": [
    {
     "data": {
      "text/html": [
       "<div>\n",
       "<style scoped>\n",
       "    .dataframe tbody tr th:only-of-type {\n",
       "        vertical-align: middle;\n",
       "    }\n",
       "\n",
       "    .dataframe tbody tr th {\n",
       "        vertical-align: top;\n",
       "    }\n",
       "\n",
       "    .dataframe thead th {\n",
       "        text-align: right;\n",
       "    }\n",
       "</style>\n",
       "<table border=\"1\" class=\"dataframe\">\n",
       "  <thead>\n",
       "    <tr style=\"text-align: right;\">\n",
       "      <th></th>\n",
       "      <th>columns</th>\n",
       "      <th>nan_count</th>\n",
       "      <th>nan_%</th>\n",
       "    </tr>\n",
       "  </thead>\n",
       "  <tbody>\n",
       "    <tr>\n",
       "      <th>0</th>\n",
       "      <td>order_delivered_customer_date</td>\n",
       "      <td>2467</td>\n",
       "      <td>2.177136</td>\n",
       "    </tr>\n",
       "    <tr>\n",
       "      <th>1</th>\n",
       "      <td>product_category_name</td>\n",
       "      <td>1612</td>\n",
       "      <td>1.422596</td>\n",
       "    </tr>\n",
       "    <tr>\n",
       "      <th>2</th>\n",
       "      <td>product_photos_qty</td>\n",
       "      <td>1612</td>\n",
       "      <td>1.422596</td>\n",
       "    </tr>\n",
       "    <tr>\n",
       "      <th>3</th>\n",
       "      <td>order_delivered_carrier_date</td>\n",
       "      <td>1203</td>\n",
       "      <td>1.061652</td>\n",
       "    </tr>\n",
       "    <tr>\n",
       "      <th>4</th>\n",
       "      <td>review_score</td>\n",
       "      <td>942</td>\n",
       "      <td>0.831318</td>\n",
       "    </tr>\n",
       "  </tbody>\n",
       "</table>\n",
       "</div>"
      ],
      "text/plain": [
       "                         columns  nan_count     nan_%\n",
       "0  order_delivered_customer_date       2467  2.177136\n",
       "1          product_category_name       1612  1.422596\n",
       "2             product_photos_qty       1612  1.422596\n",
       "3   order_delivered_carrier_date       1203  1.061652\n",
       "4                   review_score        942  0.831318"
      ]
     },
     "execution_count": 16,
     "metadata": {},
     "output_type": "execute_result"
    }
   ],
   "source": [
    "# mengubah product_category_name_english yg kosong menjadi 'pc_gamer'\n",
    "copied_df['product_category_name_english'] = np.where(\n",
    "    (copied_df['product_category_name'] == 'pc_gamer') & (copied_df['product_category_name_english'].isna()),\n",
    "    copied_df['product_category_name'],\n",
    "    copied_df['product_category_name_english'])\n",
    "\n",
    "# filling yg masih kosong dengan 'others'\n",
    "copied_df['product_category_name_english'].fillna('others', inplace=True)\n",
    "\n",
    "check_nan(copied_df)"
   ]
  },
  {
   "cell_type": "markdown",
   "id": "7295fa4c",
   "metadata": {},
   "source": [
    "#### 2.1.5 Missing values di kolom `product_photos_qty`"
   ]
  },
  {
   "cell_type": "code",
   "execution_count": 17,
   "id": "baef5fc8",
   "metadata": {
    "scrolled": true
   },
   "outputs": [
    {
     "data": {
      "text/plain": [
       "count    111702.000000\n",
       "mean          2.206908\n",
       "std           1.719500\n",
       "min           1.000000\n",
       "25%           1.000000\n",
       "50%           1.000000\n",
       "75%           3.000000\n",
       "max          20.000000\n",
       "Name: product_photos_qty, dtype: float64"
      ]
     },
     "execution_count": 17,
     "metadata": {},
     "output_type": "execute_result"
    }
   ],
   "source": [
    "# cek deskripsi adri kolom product_photos_qty untuk menentukan akan diisi dengan apa kolom yg kosong\n",
    "copied_df['product_photos_qty'].describe()"
   ]
  },
  {
   "cell_type": "code",
   "execution_count": 18,
   "id": "d6ad52f9",
   "metadata": {
    "scrolled": true
   },
   "outputs": [
    {
     "data": {
      "text/html": [
       "<div>\n",
       "<style scoped>\n",
       "    .dataframe tbody tr th:only-of-type {\n",
       "        vertical-align: middle;\n",
       "    }\n",
       "\n",
       "    .dataframe tbody tr th {\n",
       "        vertical-align: top;\n",
       "    }\n",
       "\n",
       "    .dataframe thead th {\n",
       "        text-align: right;\n",
       "    }\n",
       "</style>\n",
       "<table border=\"1\" class=\"dataframe\">\n",
       "  <thead>\n",
       "    <tr style=\"text-align: right;\">\n",
       "      <th></th>\n",
       "      <th>columns</th>\n",
       "      <th>nan_count</th>\n",
       "      <th>nan_%</th>\n",
       "    </tr>\n",
       "  </thead>\n",
       "  <tbody>\n",
       "    <tr>\n",
       "      <th>0</th>\n",
       "      <td>order_delivered_customer_date</td>\n",
       "      <td>2467</td>\n",
       "      <td>2.177136</td>\n",
       "    </tr>\n",
       "    <tr>\n",
       "      <th>1</th>\n",
       "      <td>product_category_name</td>\n",
       "      <td>1612</td>\n",
       "      <td>1.422596</td>\n",
       "    </tr>\n",
       "    <tr>\n",
       "      <th>2</th>\n",
       "      <td>order_delivered_carrier_date</td>\n",
       "      <td>1203</td>\n",
       "      <td>1.061652</td>\n",
       "    </tr>\n",
       "    <tr>\n",
       "      <th>3</th>\n",
       "      <td>review_score</td>\n",
       "      <td>942</td>\n",
       "      <td>0.831318</td>\n",
       "    </tr>\n",
       "  </tbody>\n",
       "</table>\n",
       "</div>"
      ],
      "text/plain": [
       "                         columns  nan_count     nan_%\n",
       "0  order_delivered_customer_date       2467  2.177136\n",
       "1          product_category_name       1612  1.422596\n",
       "2   order_delivered_carrier_date       1203  1.061652\n",
       "3                   review_score        942  0.831318"
      ]
     },
     "execution_count": 18,
     "metadata": {},
     "output_type": "execute_result"
    }
   ],
   "source": [
    "median_photos = copied_df['product_photos_qty'].median()\n",
    "copied_df['product_photos_qty'].fillna(median_photos, inplace=True)\n",
    "check_nan(copied_df)"
   ]
  },
  {
   "cell_type": "markdown",
   "id": "2a0f7a0b",
   "metadata": {},
   "source": [
    "#### 2.1.6 Missing values di kolom `order_delivered_carrier_date`"
   ]
  },
  {
   "cell_type": "code",
   "execution_count": 19,
   "id": "b1ce7aab",
   "metadata": {
    "scrolled": true
   },
   "outputs": [
    {
     "data": {
      "text/html": [
       "<div>\n",
       "<style scoped>\n",
       "    .dataframe tbody tr th:only-of-type {\n",
       "        vertical-align: middle;\n",
       "    }\n",
       "\n",
       "    .dataframe tbody tr th {\n",
       "        vertical-align: top;\n",
       "    }\n",
       "\n",
       "    .dataframe thead th {\n",
       "        text-align: right;\n",
       "    }\n",
       "</style>\n",
       "<table border=\"1\" class=\"dataframe\">\n",
       "  <thead>\n",
       "    <tr style=\"text-align: right;\">\n",
       "      <th></th>\n",
       "      <th>blank</th>\n",
       "      <th>not_blank</th>\n",
       "    </tr>\n",
       "    <tr>\n",
       "      <th>order_status</th>\n",
       "      <th></th>\n",
       "      <th></th>\n",
       "    </tr>\n",
       "  </thead>\n",
       "  <tbody>\n",
       "    <tr>\n",
       "      <th>approved</th>\n",
       "      <td>3</td>\n",
       "      <td>0</td>\n",
       "    </tr>\n",
       "    <tr>\n",
       "      <th>canceled</th>\n",
       "      <td>634</td>\n",
       "      <td>77</td>\n",
       "    </tr>\n",
       "    <tr>\n",
       "      <th>created</th>\n",
       "      <td>5</td>\n",
       "      <td>0</td>\n",
       "    </tr>\n",
       "    <tr>\n",
       "      <th>delivered</th>\n",
       "      <td>2</td>\n",
       "      <td>110838</td>\n",
       "    </tr>\n",
       "    <tr>\n",
       "      <th>invoiced</th>\n",
       "      <td>366</td>\n",
       "      <td>0</td>\n",
       "    </tr>\n",
       "    <tr>\n",
       "      <th>processing</th>\n",
       "      <td>358</td>\n",
       "      <td>0</td>\n",
       "    </tr>\n",
       "    <tr>\n",
       "      <th>shipped</th>\n",
       "      <td>0</td>\n",
       "      <td>1197</td>\n",
       "    </tr>\n",
       "    <tr>\n",
       "      <th>unavailable</th>\n",
       "      <td>612</td>\n",
       "      <td>0</td>\n",
       "    </tr>\n",
       "  </tbody>\n",
       "</table>\n",
       "</div>"
      ],
      "text/plain": [
       "              blank  not_blank\n",
       "order_status                  \n",
       "approved          3          0\n",
       "canceled        634         77\n",
       "created           5          0\n",
       "delivered         2     110838\n",
       "invoiced        366          0\n",
       "processing      358          0\n",
       "shipped           0       1197\n",
       "unavailable     612          0"
      ]
     },
     "execution_count": 19,
     "metadata": {},
     "output_type": "execute_result"
    }
   ],
   "source": [
    "# cek jumlah kolom blank dan tidak blank di setiap order_status\n",
    "check_non_blank(main_df, 'order_status', 'order_delivered_carrier_date')"
   ]
  },
  {
   "cell_type": "markdown",
   "id": "e31603a2",
   "metadata": {},
   "source": [
    "Dari data di atas dapat dilihat bahwa missing value pada status **delivered** adalah sebuah kesalahan, seharusnya apabila status dudah delivered, kolom `order_delivered_carrier_date` terisi semua dengan tanggal. Maka akan dilakukan inputasi di kolom tsb dengan value dari kolom `shipping_limit_date`\n",
    "\n",
    "Dan untuk status **canceled** akan dibiarkan, dikarenakan hal tersebut terjadi mungkin karena ketika paket sudah diserahkan ke kurir tetapi pesanan terlanjur dicancel oleh buyer\n",
    "\n",
    "Dan untuk value di kolom `order_delivered_carrier_date` dengan status **canceled** akan dihapus semua, karena ini diasumsikan terjadi kesalahan input"
   ]
  },
  {
   "cell_type": "code",
   "execution_count": 20,
   "id": "b50dbc45",
   "metadata": {
    "scrolled": true
   },
   "outputs": [
    {
     "data": {
      "text/html": [
       "<div>\n",
       "<style scoped>\n",
       "    .dataframe tbody tr th:only-of-type {\n",
       "        vertical-align: middle;\n",
       "    }\n",
       "\n",
       "    .dataframe tbody tr th {\n",
       "        vertical-align: top;\n",
       "    }\n",
       "\n",
       "    .dataframe thead th {\n",
       "        text-align: right;\n",
       "    }\n",
       "</style>\n",
       "<table border=\"1\" class=\"dataframe\">\n",
       "  <thead>\n",
       "    <tr style=\"text-align: right;\">\n",
       "      <th></th>\n",
       "      <th>blank</th>\n",
       "      <th>not_blank</th>\n",
       "    </tr>\n",
       "    <tr>\n",
       "      <th>order_status</th>\n",
       "      <th></th>\n",
       "      <th></th>\n",
       "    </tr>\n",
       "  </thead>\n",
       "  <tbody>\n",
       "    <tr>\n",
       "      <th>approved</th>\n",
       "      <td>3</td>\n",
       "      <td>0</td>\n",
       "    </tr>\n",
       "    <tr>\n",
       "      <th>canceled</th>\n",
       "      <td>711</td>\n",
       "      <td>0</td>\n",
       "    </tr>\n",
       "    <tr>\n",
       "      <th>created</th>\n",
       "      <td>5</td>\n",
       "      <td>0</td>\n",
       "    </tr>\n",
       "    <tr>\n",
       "      <th>delivered</th>\n",
       "      <td>0</td>\n",
       "      <td>110840</td>\n",
       "    </tr>\n",
       "    <tr>\n",
       "      <th>invoiced</th>\n",
       "      <td>366</td>\n",
       "      <td>0</td>\n",
       "    </tr>\n",
       "    <tr>\n",
       "      <th>processing</th>\n",
       "      <td>358</td>\n",
       "      <td>0</td>\n",
       "    </tr>\n",
       "    <tr>\n",
       "      <th>shipped</th>\n",
       "      <td>0</td>\n",
       "      <td>1197</td>\n",
       "    </tr>\n",
       "    <tr>\n",
       "      <th>unavailable</th>\n",
       "      <td>612</td>\n",
       "      <td>0</td>\n",
       "    </tr>\n",
       "  </tbody>\n",
       "</table>\n",
       "</div>"
      ],
      "text/plain": [
       "              blank  not_blank\n",
       "order_status                  \n",
       "approved          3          0\n",
       "canceled        711          0\n",
       "created           5          0\n",
       "delivered         0     110840\n",
       "invoiced        366          0\n",
       "processing      358          0\n",
       "shipped           0       1197\n",
       "unavailable     612          0"
      ]
     },
     "execution_count": 20,
     "metadata": {},
     "output_type": "execute_result"
    }
   ],
   "source": [
    "# fill na menggunakan di kolom order_delivered_carrier_date order_status=delivered\n",
    "main_df['order_delivered_carrier_date'] = np.where(\n",
    "    (main_df['order_status'] == 'delivered') & (main_df['order_delivered_carrier_date'].isna()),\n",
    "    main_df['shipping_limit_date'],\n",
    "    main_df['order_delivered_carrier_date'])\n",
    "\n",
    "# fill na menggunakan di kolom order_delivered_carrier_date order_status=canceled\n",
    "main_df['order_delivered_carrier_date'] = np.where(\n",
    "    main_df['order_status'] == 'canceled',\n",
    "    pd.NaT,\n",
    "    main_df['order_delivered_carrier_date'])\n",
    "\n",
    "check_non_blank(main_df, 'order_status', 'order_delivered_carrier_date')"
   ]
  },
  {
   "cell_type": "markdown",
   "id": "2fa2d10a",
   "metadata": {},
   "source": [
    "## 2.2 Check duplicates"
   ]
  },
  {
   "cell_type": "code",
   "execution_count": 21,
   "id": "3b28f879",
   "metadata": {},
   "outputs": [
    {
     "data": {
      "text/plain": [
       "[(113314, 20), True]"
      ]
     },
     "execution_count": 21,
     "metadata": {},
     "output_type": "execute_result"
    }
   ],
   "source": [
    "[copied_df.shape, copied_df.duplicated().any()]"
   ]
  },
  {
   "cell_type": "code",
   "execution_count": 22,
   "id": "778dcc80",
   "metadata": {},
   "outputs": [
    {
     "data": {
      "text/plain": [
       "[(112915, 20), False]"
      ]
     },
     "execution_count": 22,
     "metadata": {},
     "output_type": "execute_result"
    }
   ],
   "source": [
    "copied_df = copied_df.drop_duplicates(keep='first')\n",
    "[copied_df.shape, copied_df.duplicated().any()]"
   ]
  },
  {
   "cell_type": "markdown",
   "id": "be402dac",
   "metadata": {},
   "source": [
    "## Date Manipulation"
   ]
  },
  {
   "cell_type": "code",
   "execution_count": 23,
   "id": "33d4ef22",
   "metadata": {
    "scrolled": true
   },
   "outputs": [],
   "source": [
    "drop_cols = ['product_category_name', 'order_item_id']\n",
    "copied_df.drop(columns=drop_cols, inplace=True)"
   ]
  },
  {
   "cell_type": "code",
   "execution_count": 24,
   "id": "0604888f",
   "metadata": {},
   "outputs": [],
   "source": [
    "# create new column for day name and date\n",
    "copied_df['purchase_day'] = copied_df.order_purchase_timestamp.dt.day_name()\n",
    "copied_df['purchase_date'] = copied_df.order_purchase_timestamp.dt.day\n",
    "copied_df['purchase_month'] = copied_df.order_purchase_timestamp.dt.month\n",
    "copied_df['purchase_year'] = copied_df.order_purchase_timestamp.dt.year\n",
    "copied_df['delivery_duration'] = (copied_df.order_delivered_customer_date -\n",
    "                                  copied_df.order_delivered_carrier_date).dt.days\n",
    "copied_df['process_duration'] = np.ceil((copied_df.order_delivered_carrier_date -\n",
    "                                 copied_df.order_approved_at).dt.total_seconds() / 3600 / 24)"
   ]
  },
  {
   "cell_type": "code",
   "execution_count": 25,
   "id": "88174167",
   "metadata": {},
   "outputs": [
    {
     "data": {
      "text/html": [
       "<div>\n",
       "<style scoped>\n",
       "    .dataframe tbody tr th:only-of-type {\n",
       "        vertical-align: middle;\n",
       "    }\n",
       "\n",
       "    .dataframe tbody tr th {\n",
       "        vertical-align: top;\n",
       "    }\n",
       "\n",
       "    .dataframe thead th {\n",
       "        text-align: right;\n",
       "    }\n",
       "</style>\n",
       "<table border=\"1\" class=\"dataframe\">\n",
       "  <thead>\n",
       "    <tr style=\"text-align: right;\">\n",
       "      <th></th>\n",
       "      <th>order_id</th>\n",
       "      <th>product_id</th>\n",
       "      <th>seller_id</th>\n",
       "      <th>seller_state</th>\n",
       "      <th>customer_id</th>\n",
       "      <th>customer_state</th>\n",
       "      <th>order_status</th>\n",
       "      <th>price</th>\n",
       "      <th>freight_value</th>\n",
       "      <th>order_purchase_timestamp</th>\n",
       "      <th>order_approved_at</th>\n",
       "      <th>...</th>\n",
       "      <th>order_estimated_delivery_date</th>\n",
       "      <th>order_delivered_customer_date</th>\n",
       "      <th>review_score</th>\n",
       "      <th>product_photos_qty</th>\n",
       "      <th>product_category_name_english</th>\n",
       "      <th>purchase_day</th>\n",
       "      <th>purchase_date</th>\n",
       "      <th>purchase_month</th>\n",
       "      <th>purchase_year</th>\n",
       "      <th>delivery_duration</th>\n",
       "      <th>process_duration</th>\n",
       "    </tr>\n",
       "  </thead>\n",
       "  <tbody>\n",
       "    <tr>\n",
       "      <th>0</th>\n",
       "      <td>00010242fe8c5a6d1ba2dd792cb16214</td>\n",
       "      <td>4244733e06e7ecb4970a6e2683c13e61</td>\n",
       "      <td>48436dade18ac8b2bce089ec2a041202</td>\n",
       "      <td>Sao Paulo</td>\n",
       "      <td>3ce436f183e68e07877b285a838db11a</td>\n",
       "      <td>Rio de Janeiro</td>\n",
       "      <td>delivered</td>\n",
       "      <td>58.90</td>\n",
       "      <td>13.29</td>\n",
       "      <td>2017-09-13 08:59:02</td>\n",
       "      <td>2017-09-13 09:45:35</td>\n",
       "      <td>...</td>\n",
       "      <td>2017-09-29</td>\n",
       "      <td>2017-09-20 23:43:48</td>\n",
       "      <td>5.0</td>\n",
       "      <td>4.0</td>\n",
       "      <td>cool_stuff</td>\n",
       "      <td>Wednesday</td>\n",
       "      <td>13</td>\n",
       "      <td>9</td>\n",
       "      <td>2017</td>\n",
       "      <td>1.0</td>\n",
       "      <td>7.0</td>\n",
       "    </tr>\n",
       "    <tr>\n",
       "      <th>1</th>\n",
       "      <td>00018f77f2f0320c557190d7a144bdd3</td>\n",
       "      <td>e5f2d52b802189ee658865ca93d83a8f</td>\n",
       "      <td>dd7ddc04e1b6c2c614352b383efe2d36</td>\n",
       "      <td>Sao Paulo</td>\n",
       "      <td>f6dd3ec061db4e3987629fe6b26e5cce</td>\n",
       "      <td>Sao Paulo</td>\n",
       "      <td>delivered</td>\n",
       "      <td>239.90</td>\n",
       "      <td>19.93</td>\n",
       "      <td>2017-04-26 10:53:06</td>\n",
       "      <td>2017-04-26 11:05:13</td>\n",
       "      <td>...</td>\n",
       "      <td>2017-05-15</td>\n",
       "      <td>2017-05-12 16:04:24</td>\n",
       "      <td>4.0</td>\n",
       "      <td>2.0</td>\n",
       "      <td>pet_shop</td>\n",
       "      <td>Wednesday</td>\n",
       "      <td>26</td>\n",
       "      <td>4</td>\n",
       "      <td>2017</td>\n",
       "      <td>8.0</td>\n",
       "      <td>9.0</td>\n",
       "    </tr>\n",
       "    <tr>\n",
       "      <th>2</th>\n",
       "      <td>000229ec398224ef6ca0657da4fc703e</td>\n",
       "      <td>c777355d18b72b67abbeef9df44fd0fd</td>\n",
       "      <td>5b51032eddd242adc84c38acab88f23d</td>\n",
       "      <td>Minas Gerais</td>\n",
       "      <td>6489ae5e4333f3693df5ad4372dab6d3</td>\n",
       "      <td>Minas Gerais</td>\n",
       "      <td>delivered</td>\n",
       "      <td>199.00</td>\n",
       "      <td>17.87</td>\n",
       "      <td>2018-01-14 14:33:31</td>\n",
       "      <td>2018-01-14 14:48:30</td>\n",
       "      <td>...</td>\n",
       "      <td>2018-02-05</td>\n",
       "      <td>2018-01-22 13:19:16</td>\n",
       "      <td>5.0</td>\n",
       "      <td>2.0</td>\n",
       "      <td>furniture_decor</td>\n",
       "      <td>Sunday</td>\n",
       "      <td>14</td>\n",
       "      <td>1</td>\n",
       "      <td>2018</td>\n",
       "      <td>6.0</td>\n",
       "      <td>2.0</td>\n",
       "    </tr>\n",
       "    <tr>\n",
       "      <th>3</th>\n",
       "      <td>00024acbcdf0a6daa1e931b038114c75</td>\n",
       "      <td>7634da152a4610f1595efa32f14722fc</td>\n",
       "      <td>9d7a1d34a5052409006425275ba1c2b4</td>\n",
       "      <td>Sao Paulo</td>\n",
       "      <td>d4eb9395c8c0431ee92fce09860c5a06</td>\n",
       "      <td>Sao Paulo</td>\n",
       "      <td>delivered</td>\n",
       "      <td>12.99</td>\n",
       "      <td>12.79</td>\n",
       "      <td>2018-08-08 10:00:35</td>\n",
       "      <td>2018-08-08 10:10:18</td>\n",
       "      <td>...</td>\n",
       "      <td>2018-08-20</td>\n",
       "      <td>2018-08-14 13:32:39</td>\n",
       "      <td>4.0</td>\n",
       "      <td>1.0</td>\n",
       "      <td>perfumery</td>\n",
       "      <td>Wednesday</td>\n",
       "      <td>8</td>\n",
       "      <td>8</td>\n",
       "      <td>2018</td>\n",
       "      <td>4.0</td>\n",
       "      <td>3.0</td>\n",
       "    </tr>\n",
       "    <tr>\n",
       "      <th>4</th>\n",
       "      <td>00042b26cf59d7ce69dfabb4e55b4fd9</td>\n",
       "      <td>ac6c3623068f30de03045865e4e10089</td>\n",
       "      <td>df560393f3a51e74553ab94004ba5c87</td>\n",
       "      <td>Parana</td>\n",
       "      <td>58dbd0b2d70206bf40e62cd34e84d795</td>\n",
       "      <td>Sao Paulo</td>\n",
       "      <td>delivered</td>\n",
       "      <td>199.90</td>\n",
       "      <td>18.14</td>\n",
       "      <td>2017-02-04 13:57:51</td>\n",
       "      <td>2017-02-04 14:10:13</td>\n",
       "      <td>...</td>\n",
       "      <td>2017-03-17</td>\n",
       "      <td>2017-03-01 16:42:31</td>\n",
       "      <td>5.0</td>\n",
       "      <td>1.0</td>\n",
       "      <td>garden_tools</td>\n",
       "      <td>Saturday</td>\n",
       "      <td>4</td>\n",
       "      <td>2</td>\n",
       "      <td>2017</td>\n",
       "      <td>13.0</td>\n",
       "      <td>12.0</td>\n",
       "    </tr>\n",
       "  </tbody>\n",
       "</table>\n",
       "<p>5 rows × 24 columns</p>\n",
       "</div>"
      ],
      "text/plain": [
       "                           order_id                        product_id  \\\n",
       "0  00010242fe8c5a6d1ba2dd792cb16214  4244733e06e7ecb4970a6e2683c13e61   \n",
       "1  00018f77f2f0320c557190d7a144bdd3  e5f2d52b802189ee658865ca93d83a8f   \n",
       "2  000229ec398224ef6ca0657da4fc703e  c777355d18b72b67abbeef9df44fd0fd   \n",
       "3  00024acbcdf0a6daa1e931b038114c75  7634da152a4610f1595efa32f14722fc   \n",
       "4  00042b26cf59d7ce69dfabb4e55b4fd9  ac6c3623068f30de03045865e4e10089   \n",
       "\n",
       "                          seller_id  seller_state  \\\n",
       "0  48436dade18ac8b2bce089ec2a041202     Sao Paulo   \n",
       "1  dd7ddc04e1b6c2c614352b383efe2d36     Sao Paulo   \n",
       "2  5b51032eddd242adc84c38acab88f23d  Minas Gerais   \n",
       "3  9d7a1d34a5052409006425275ba1c2b4     Sao Paulo   \n",
       "4  df560393f3a51e74553ab94004ba5c87        Parana   \n",
       "\n",
       "                        customer_id  customer_state order_status   price  \\\n",
       "0  3ce436f183e68e07877b285a838db11a  Rio de Janeiro    delivered   58.90   \n",
       "1  f6dd3ec061db4e3987629fe6b26e5cce       Sao Paulo    delivered  239.90   \n",
       "2  6489ae5e4333f3693df5ad4372dab6d3    Minas Gerais    delivered  199.00   \n",
       "3  d4eb9395c8c0431ee92fce09860c5a06       Sao Paulo    delivered   12.99   \n",
       "4  58dbd0b2d70206bf40e62cd34e84d795       Sao Paulo    delivered  199.90   \n",
       "\n",
       "   freight_value order_purchase_timestamp   order_approved_at  ...  \\\n",
       "0          13.29      2017-09-13 08:59:02 2017-09-13 09:45:35  ...   \n",
       "1          19.93      2017-04-26 10:53:06 2017-04-26 11:05:13  ...   \n",
       "2          17.87      2018-01-14 14:33:31 2018-01-14 14:48:30  ...   \n",
       "3          12.79      2018-08-08 10:00:35 2018-08-08 10:10:18  ...   \n",
       "4          18.14      2017-02-04 13:57:51 2017-02-04 14:10:13  ...   \n",
       "\n",
       "  order_estimated_delivery_date order_delivered_customer_date review_score  \\\n",
       "0                    2017-09-29           2017-09-20 23:43:48          5.0   \n",
       "1                    2017-05-15           2017-05-12 16:04:24          4.0   \n",
       "2                    2018-02-05           2018-01-22 13:19:16          5.0   \n",
       "3                    2018-08-20           2018-08-14 13:32:39          4.0   \n",
       "4                    2017-03-17           2017-03-01 16:42:31          5.0   \n",
       "\n",
       "  product_photos_qty  product_category_name_english  purchase_day  \\\n",
       "0                4.0                     cool_stuff     Wednesday   \n",
       "1                2.0                       pet_shop     Wednesday   \n",
       "2                2.0                furniture_decor        Sunday   \n",
       "3                1.0                      perfumery     Wednesday   \n",
       "4                1.0                   garden_tools      Saturday   \n",
       "\n",
       "  purchase_date purchase_month  purchase_year  delivery_duration  \\\n",
       "0            13              9           2017                1.0   \n",
       "1            26              4           2017                8.0   \n",
       "2            14              1           2018                6.0   \n",
       "3             8              8           2018                4.0   \n",
       "4             4              2           2017               13.0   \n",
       "\n",
       "   process_duration  \n",
       "0               7.0  \n",
       "1               9.0  \n",
       "2               2.0  \n",
       "3               3.0  \n",
       "4              12.0  \n",
       "\n",
       "[5 rows x 24 columns]"
      ]
     },
     "execution_count": 25,
     "metadata": {},
     "output_type": "execute_result"
    }
   ],
   "source": [
    "copied_df.head()"
   ]
  },
  {
   "cell_type": "markdown",
   "id": "4864ddbe",
   "metadata": {},
   "source": [
    "# Handling Outlier"
   ]
  },
  {
   "cell_type": "markdown",
   "id": "caea8670",
   "metadata": {},
   "source": [
    "### Check Outlier from Column `delivery_duration_day`"
   ]
  },
  {
   "cell_type": "code",
   "execution_count": 26,
   "id": "c970b2d5",
   "metadata": {
    "scrolled": false
   },
   "outputs": [
    {
     "data": {
      "image/png": "[encoded data removed]",
      "text/plain": [
       "<Figure size 500x300 with 1 Axes>"
      ]
     },
     "metadata": {},
     "output_type": "display_data"
    }
   ],
   "source": [
    "# membuat histogram dari kolom price untuk mempermudah melihat outlier\n",
    "fig, ax = plt.subplots(figsize = (5, 3))\n",
    "sns.histplot(data = copied_df,\n",
    "             x = 'delivery_duration',\n",
    "             bins = 75,\n",
    "             ax = ax)\n",
    "plt.show()"
   ]
  },
  {
   "cell_type": "code",
   "execution_count": 27,
   "id": "8c4ab724",
   "metadata": {
    "scrolled": true
   },
   "outputs": [
    {
     "data": {
      "text/plain": [
       "count    110454.000000\n",
       "mean          8.736678\n",
       "std           8.611703\n",
       "min         -17.000000\n",
       "25%           4.000000\n",
       "50%           7.000000\n",
       "75%          11.000000\n",
       "max         205.000000\n",
       "Name: delivery_duration, dtype: float64"
      ]
     },
     "execution_count": 27,
     "metadata": {},
     "output_type": "execute_result"
    }
   ],
   "source": [
    "# deskripsi statistik dari kolom prie\n",
    "copied_df.delivery_duration.describe()"
   ]
  },
  {
   "cell_type": "markdown",
   "id": "634c109c",
   "metadata": {},
   "source": [
    "dapat dilihat terdapat data yg lebih kecil dari 0 di mana data tersebut tidak valid, dan terdapat data yg sangat besar"
   ]
  },
  {
   "cell_type": "code",
   "execution_count": 28,
   "id": "ec9e5a9e",
   "metadata": {
    "scrolled": true
   },
   "outputs": [
    {
     "name": "stdout",
     "output_type": "stream",
     "text": [
      "q1_duration: 4.0\n",
      "q3_duration: 11.0\n",
      "iqr_duration: 7.0\n",
      "max_duration: 22.0\n"
     ]
    }
   ],
   "source": [
    "# mencari Q1 & Q3\n",
    "q1_duration = copied_df.delivery_duration.quantile(.25)\n",
    "q3_duration = copied_df.delivery_duration.quantile(.75)\n",
    "\n",
    "# mencari IQR & Maximum\n",
    "iqr_duration = q3_duration - q1_duration\n",
    "max_duration = np.ceil(q3_duration + 1.5 * iqr_duration) # dibulatkan ke atas\n",
    " \n",
    "print(f'q1_duration: {q1_duration}')\n",
    "print(f'q3_duration: {q3_duration}')\n",
    "print(f'iqr_duration: {iqr_duration}')\n",
    "print(f'max_duration: {max_duration}')"
   ]
  },
  {
   "cell_type": "code",
   "execution_count": 29,
   "id": "21f9c86a",
   "metadata": {},
   "outputs": [
    {
     "name": "stdout",
     "output_type": "stream",
     "text": [
      "Jumlah baris yang di bawah 0: 50\n"
     ]
    }
   ],
   "source": [
    "# cek ada berapa banyak data delivery_duration_day < 0\n",
    "x, y = copied_df[copied_df.delivery_duration < 0].shape\n",
    "print(f'Jumlah baris yang di bawah 0: {x}')"
   ]
  },
  {
   "cell_type": "markdown",
   "id": "02e87407",
   "metadata": {},
   "source": [
    "karena datanya sangat sedikit (50 baris), maka akan dihapus"
   ]
  },
  {
   "cell_type": "code",
   "execution_count": 30,
   "id": "aa0a5058",
   "metadata": {
    "scrolled": false
   },
   "outputs": [
    {
     "data": {
      "text/plain": [
       "count    110404.000000\n",
       "mean          8.742274\n",
       "std           8.609302\n",
       "min           0.000000\n",
       "25%           4.000000\n",
       "50%           7.000000\n",
       "75%          11.000000\n",
       "max         205.000000\n",
       "Name: delivery_duration, dtype: float64"
      ]
     },
     "execution_count": 30,
     "metadata": {},
     "output_type": "execute_result"
    }
   ],
   "source": [
    "# drop data yg delivery_duration_day < 0\n",
    "filtered_data = copied_df[copied_df.delivery_duration >= 0]\n",
    "filtered_data.delivery_duration.describe()"
   ]
  },
  {
   "cell_type": "code",
   "execution_count": 31,
   "id": "844a6726",
   "metadata": {},
   "outputs": [
    {
     "data": {
      "text/plain": [
       "'5.48%'"
      ]
     },
     "execution_count": 31,
     "metadata": {},
     "output_type": "execute_result"
    }
   ],
   "source": [
    "rows, cols = filtered_data[filtered_data.delivery_duration > max_duration].shape\n",
    "total_rows = len(filtered_data)\n",
    "f'{(rows/total_rows * 100):.2f}%'"
   ]
  },
  {
   "cell_type": "markdown",
   "id": "b61214c6",
   "metadata": {},
   "source": [
    "pada kolom `delivery_duration_day` terdapat lebih dari 5% data yg masuk kategori outlier, karena cukup banyak maka kolom tersebut akan dibuat sebagai kategorikal seperti berikut:\n",
    "  - 1 day\n",
    "  - 2-3 days\n",
    "  - 4-5 days\n",
    "  - 6-7 days\n",
    "  - 8-10 days\n",
    "  - 10-12 days\n",
    "  - 12 days ++"
   ]
  },
  {
   "cell_type": "code",
   "execution_count": 32,
   "id": "65b6d925",
   "metadata": {
    "scrolled": true
   },
   "outputs": [
    {
     "name": "stderr",
     "output_type": "stream",
     "text": [
      "C:\\Users\\NublzPC\\AppData\\Local\\Temp\\ipykernel_4996\\3592286708.py:13: SettingWithCopyWarning: \n",
      "A value is trying to be set on a copy of a slice from a DataFrame.\n",
      "Try using .loc[row_indexer,col_indexer] = value instead\n",
      "\n",
      "See the caveats in the documentation: https://pandas.pydata.org/pandas-docs/stable/user_guide/indexing.html#returning-a-view-versus-a-copy\n",
      "  filtered_data['delivery_duration'] = np.select(categorized_day, category)\n"
     ]
    }
   ],
   "source": [
    "categorized_day = [\n",
    "    (filtered_data.delivery_duration > 12),\n",
    "    (filtered_data.delivery_duration >= 10),\n",
    "    (filtered_data.delivery_duration >= 8),\n",
    "    (filtered_data.delivery_duration >= 6),\n",
    "    (filtered_data.delivery_duration >= 4),\n",
    "    (filtered_data.delivery_duration >= 2),\n",
    "    (filtered_data.delivery_duration >= 0)\n",
    "]\n",
    "\n",
    "category = ['>12 days', '10-12 days', '8-10 days', '6-7 days', '4-5 days', '2-3 days', '0-1 day']\n",
    "\n",
    "filtered_data['delivery_duration'] = np.select(categorized_day, category)"
   ]
  },
  {
   "cell_type": "markdown",
   "id": "fbcb5b8a",
   "metadata": {},
   "source": [
    "## Check Outlier from Column `process_duration_day`"
   ]
  },
  {
   "cell_type": "code",
   "execution_count": 33,
   "id": "6a958afd",
   "metadata": {},
   "outputs": [
    {
     "data": {
      "image/png": "[encoded data removed]",
      "text/plain": [
       "<Figure size 500x300 with 1 Axes>"
      ]
     },
     "metadata": {},
     "output_type": "display_data"
    }
   ],
   "source": [
    "# membuat histogram dari kolom price untuk mempermudah melihat outlier\n",
    "fig, ax = plt.subplots(figsize = (5, 3))\n",
    "sns.histplot(data = filtered_data,\n",
    "             x = 'process_duration',\n",
    "             bins = 20,\n",
    "             ax = ax)\n",
    "plt.show()"
   ]
  },
  {
   "cell_type": "code",
   "execution_count": 34,
   "id": "289f7583",
   "metadata": {
    "scrolled": false
   },
   "outputs": [
    {
     "data": {
      "text/plain": [
       "count    110404.000000\n",
       "mean          3.341681\n",
       "std           3.586760\n",
       "min        -171.000000\n",
       "25%           1.000000\n",
       "50%           2.000000\n",
       "75%           4.000000\n",
       "max         126.000000\n",
       "Name: process_duration, dtype: float64"
      ]
     },
     "execution_count": 34,
     "metadata": {},
     "output_type": "execute_result"
    }
   ],
   "source": [
    "filtered_data.process_duration.describe()"
   ]
  },
  {
   "cell_type": "code",
   "execution_count": 35,
   "id": "bf8fbf31",
   "metadata": {
    "scrolled": true
   },
   "outputs": [
    {
     "data": {
      "text/plain": [
       "'0.48%'"
      ]
     },
     "execution_count": 35,
     "metadata": {},
     "output_type": "execute_result"
    }
   ],
   "source": [
    "rows, cols = filtered_data[filtered_data.process_duration < 0].shape\n",
    "total_rows = len(filtered_data.process_duration)\n",
    "f'{(rows/total_rows * 100):.2f}%'"
   ]
  },
  {
   "cell_type": "markdown",
   "id": "39e5c164",
   "metadata": {},
   "source": [
    "karena datanya sangat sedikit (<1%), maka akan dihapus"
   ]
  },
  {
   "cell_type": "code",
   "execution_count": 36,
   "id": "dacdf212",
   "metadata": {
    "scrolled": true
   },
   "outputs": [
    {
     "data": {
      "text/plain": [
       "count    109879.000000\n",
       "mean          3.368251\n",
       "std           3.536323\n",
       "min          -0.000000\n",
       "25%           1.000000\n",
       "50%           2.000000\n",
       "75%           4.000000\n",
       "max         126.000000\n",
       "Name: process_duration, dtype: float64"
      ]
     },
     "execution_count": 36,
     "metadata": {},
     "output_type": "execute_result"
    }
   ],
   "source": [
    "# drop data yg delivery_duration_day < 0\n",
    "filtered_data = filtered_data[filtered_data.process_duration >= 0]\n",
    "filtered_data.process_duration.describe()"
   ]
  },
  {
   "cell_type": "code",
   "execution_count": 37,
   "id": "322f15d8",
   "metadata": {},
   "outputs": [],
   "source": [
    "filtered_data.process_duration = filtered_data.process_duration.replace(\"-\", \"\")"
   ]
  },
  {
   "cell_type": "markdown",
   "id": "6cdc8962",
   "metadata": {},
   "source": [
    "pada kolom `delivery_duration_day` terdapat lebih dari 5% data yg masuk kategori outlier, karena cukup banyak maka kolom tersebut akan dibuat sebagai kategorikal seperti berikut:\n",
    "  - < 1 day\n",
    "  - 1-2 days\n",
    "  - 3-4 days\n",
    "  - 5-7 days\n",
    "  - 7 days ++"
   ]
  },
  {
   "cell_type": "code",
   "execution_count": 38,
   "id": "eb0e7375",
   "metadata": {
    "scrolled": true
   },
   "outputs": [],
   "source": [
    "categorized_day = [\n",
    "    (filtered_data.process_duration > 7),\n",
    "    (filtered_data.process_duration >= 5),\n",
    "    (filtered_data.process_duration >= 3),\n",
    "    (filtered_data.process_duration >= 1),\n",
    "    (filtered_data.process_duration == 0)\n",
    "]\n",
    "\n",
    "category = ['> 7 days', '5-7 days', '3-4 days', '1-2 days', '< 1 day']\n",
    "\n",
    "filtered_data['process_duration'] = np.select(categorized_day, category)"
   ]
  },
  {
   "cell_type": "markdown",
   "id": "5b3919c3",
   "metadata": {},
   "source": [
    "## Objective\n",
    "#### 1. hari apa kebanyakan transaksi terjadi?"
   ]
  },
  {
   "cell_type": "code",
   "execution_count": 39,
   "id": "c0668dab",
   "metadata": {},
   "outputs": [
    {
     "data": {
      "image/png": "[encoded data removed]",
      "text/plain": [
       "<Figure size 1000x500 with 1 Axes>"
      ]
     },
     "metadata": {},
     "output_type": "display_data"
    }
   ],
   "source": [
    "# hari dengan jumlah transaksi terbanyak\n",
    "trx_most_day = filtered_data.groupby('purchase_day').count()['order_id'].sort_values(ascending=False).reset_index()\n",
    "\n",
    "# setting data yg paling tinggi akan memiliki warna berbeda\n",
    "highest = trx_most_day.order_id.max()\n",
    "colors = ['#002F6C' if val == highest else '#DDDDDD' for val in trx_most_day.order_id]\n",
    "\n",
    "# visualisasi\n",
    "fig, ax = plt.subplots(figsize = (10, 5))\n",
    "sns.barplot(data = trx_most_day,\n",
    "            x = 'purchase_day',\n",
    "            y = 'order_id',\n",
    "            ax = ax,\n",
    "            palette = colors)\n",
    "\n",
    "# memberikan label ke setiap bar\n",
    "for cont1 in ax.containers:\n",
    "    labels = [f'{total:,.0f}' for total in cont1.datavalues]\n",
    "    ax.bar_label(cont1, labels, fontsize=9)\n",
    "\n",
    "# rename x, y axis and title\n",
    "ax.set_title('Day with the Most Transaction')\n",
    "ax.set_xlabel('Day Name')\n",
    "ax.set_ylabel('Total Orders')\n",
    "\n",
    "# menampilkan bar plot\n",
    "plt.show()"
   ]
  },
  {
   "cell_type": "markdown",
   "id": "6d4c9b4b",
   "metadata": {},
   "source": [
    "#### 1.1 Tanggal dengan jumlah transaksi terbanyak"
   ]
  },
  {
   "cell_type": "code",
   "execution_count": 40,
   "id": "696e6635",
   "metadata": {
    "scrolled": true
   },
   "outputs": [
    {
     "data": {
      "image/png": "[encoded data removed]",
      "text/plain": [
       "<Figure size 1000x300 with 1 Axes>"
      ]
     },
     "metadata": {},
     "output_type": "display_data"
    }
   ],
   "source": [
    "# grouping data\n",
    "trx_most_date = filtered_data.groupby('purchase_date').count()['order_id'].reset_index()\n",
    "\n",
    "# setting data yg paling tinggi akan memiliki warna berbeda\n",
    "highest = trx_most_date.order_id.max()\n",
    "colors = ['#002F6C' if val == highest else '#DDDDDD' for val in trx_most_date.order_id]\n",
    "\n",
    "fig, ax = plt.subplots(figsize = (10, 3))\n",
    "sns.barplot(data = trx_most_date,\n",
    "            x = 'purchase_date',\n",
    "            y = 'order_id',\n",
    "            ax = ax,\n",
    "            palette = colors)\n",
    "\n",
    "plt.xlabel('Date')\n",
    "plt.ylabel('Total Orders')\n",
    "plt.title('Date with the Most Transaction')\n",
    "\n",
    "plt.show()"
   ]
  },
  {
   "cell_type": "markdown",
   "id": "e1e8e6c0",
   "metadata": {},
   "source": [
    "#### 1.1 Bulan dengan transaksi terbanyak yang hanya tanggal 24 saja"
   ]
  },
  {
   "cell_type": "code",
   "execution_count": 41,
   "id": "5d7abc07",
   "metadata": {},
   "outputs": [
    {
     "data": {
      "image/png": "[encoded data removed]",
      "text/plain": [
       "<Figure size 1000x500 with 1 Axes>"
      ]
     },
     "metadata": {},
     "output_type": "display_data"
    }
   ],
   "source": [
    "# filtering & grouping data\n",
    "only_24 = filtered_data[filtered_data.purchase_date == 24]\n",
    "trx_most_mos = only_24.groupby('purchase_month').count()['order_id'].reset_index()\n",
    "\n",
    "# setting data yg paling tinggi akan memiliki warna berbeda\n",
    "highest = trx_most_mos.order_id.max()\n",
    "colors = ['#002F6C' if val == highest else '#DDDDDD' for val in trx_most_mos.order_id]\n",
    "\n",
    "# visualisasi\n",
    "fig, ax = plt.subplots(figsize = (10, 5))\n",
    "sns.barplot(data = trx_most_mos,\n",
    "            x = 'purchase_month',\n",
    "            y = 'order_id',\n",
    "            ax = ax,\n",
    "            palette = colors)\n",
    "\n",
    "# memberikan label ke setiap bar\n",
    "for cont in ax.containers:\n",
    "    labels = [f'{total:,.0f}' for total in cont.datavalues]\n",
    "    ax.bar_label(cont, labels, fontsize=9)\n",
    "\n",
    "# rename x, y axis and title\n",
    "plt.xlabel('Month')\n",
    "plt.ylabel('Total Orders')\n",
    "plt.title('Month with the Most Transaction')\n",
    "\n",
    "# menampilkan bar plot\n",
    "plt.show()"
   ]
  },
  {
   "cell_type": "markdown",
   "id": "9fd1160d",
   "metadata": {},
   "source": [
    "#### 1.2 Tahun dengan transaksi terbanyak dengan kondisi tanggal 24, bulan 11"
   ]
  },
  {
   "cell_type": "code",
   "execution_count": 42,
   "id": "ec130e19",
   "metadata": {
    "scrolled": false
   },
   "outputs": [
    {
     "data": {
      "image/png": "[encoded data removed]",
      "text/plain": [
       "<Figure size 200x400 with 1 Axes>"
      ]
     },
     "metadata": {},
     "output_type": "display_data"
    }
   ],
   "source": [
    "# filtering & grouping data\n",
    "only_11 = filtered_data[filtered_data.purchase_month == 11]\n",
    "trx_most_yr = only_11.groupby('purchase_year').count()['order_id'].reset_index()\n",
    "\n",
    "# setting data yg paling tinggi akan memiliki warna berbeda\n",
    "highest = trx_most_yr.order_id.max()\n",
    "colors = ['#002F6C' if val == highest else '#DDDDDD' for val in trx_most_yr.order_id]\n",
    "\n",
    "# visualisasi\n",
    "fig, ax = plt.subplots(figsize = (2, 4))\n",
    "sns.barplot(data = trx_most_yr,\n",
    "            x = 'purchase_year',\n",
    "            y = 'order_id',\n",
    "            ax = ax,\n",
    "            palette = colors)\n",
    "\n",
    "# memberikan label ke setiap bar\n",
    "for cont in ax.containers:\n",
    "    labels = [f'{total:,.0f}' for total in cont.datavalues]\n",
    "    ax.bar_label(cont, labels, fontsize=9)\n",
    "\n",
    "# rename x, y axis and title\n",
    "plt.xlabel('Month')\n",
    "plt.ylabel('Total Orders')\n",
    "plt.title('Year with the Most Transaction')\n",
    "\n",
    "# menampilkan bar plot\n",
    "plt.show()"
   ]
  },
  {
   "cell_type": "markdown",
   "id": "6a5b5855",
   "metadata": {},
   "source": [
    "#### 2. Persebaran seller"
   ]
  },
  {
   "cell_type": "code",
   "execution_count": 43,
   "id": "f25852a5",
   "metadata": {
    "scrolled": false
   },
   "outputs": [
    {
     "data": {
      "image/png": "[encoded data removed]",
      "text/plain": [
       "<Figure size 1200x500 with 1 Axes>"
      ]
     },
     "metadata": {},
     "output_type": "display_data"
    }
   ],
   "source": [
    "# filtering & grouping data frame\n",
    "sellers_per_state = filtered_data.groupby('seller_state')['seller_id'].nunique().sort_values(ascending=False).reset_index()\n",
    "\n",
    "# setting data yg paling tinggi akan memiliki warna berbeda\n",
    "highest = sellers_per_state.seller_id.max()\n",
    "colors = ['#002F6C' if val == highest else '#DDDDDD' for val in sellers_per_state.seller_id]\n",
    "\n",
    "# visualisasi\n",
    "fig, ax = plt.subplots(figsize = (12, 5))\n",
    "sns.barplot(data = sellers_per_state,\n",
    "            x = 'seller_id',\n",
    "            y = 'seller_state',\n",
    "            ax = ax,\n",
    "            palette = colors)\n",
    "\n",
    "# memberikan label ke setiap bar\n",
    "for cont in ax.containers:\n",
    "    labels = [f'{total:,.0f}' for total in cont.datavalues]\n",
    "    ax.bar_label(cont, labels, fontsize=9)\n",
    "\n",
    "# rename x, y axis and title\n",
    "ax.set_title('Seller Count per State')\n",
    "ax.set_ylabel(' ')\n",
    "ax.set_xlabel('Total Seller')\n",
    "\n",
    "# menampilkan bar plot\n",
    "plt.show()"
   ]
  },
  {
   "cell_type": "markdown",
   "id": "8e7d3dcb",
   "metadata": {},
   "source": [
    "#### 3. Jumlah seller dengan rataan review score terburuk untuk state Sao Paulo"
   ]
  },
  {
   "cell_type": "code",
   "execution_count": 47,
   "id": "c22b002c",
   "metadata": {
    "scrolled": false
   },
   "outputs": [
    {
     "data": {
      "image/png": "[encoded data removed]",
      "text/plain": [
       "<Figure size 800x500 with 1 Axes>"
      ]
     },
     "metadata": {},
     "output_type": "display_data"
    }
   ],
   "source": [
    "# filter seller hanya dari Sao Paulo & sudah mendapatkan review\n",
    "sao_paulo = filtered_data[filtered_data.seller_state == 'Sao Paulo']\n",
    "sao_paulo_review = sao_paulo[~sao_paulo.review_score.isna()]\n",
    "\n",
    "# menghitung average score review dari setiap seller_id\n",
    "sao_paulo_review = sao_paulo_review.groupby('seller_id')['review_score'].mean().round(2).reset_index()\n",
    "sao_paulo_review.rename(columns={'review_score': 'avg_review_score'}, inplace=True)\n",
    "\n",
    "# menghitung jumlah order dari setiap seller_id\n",
    "order_count = sao_paulo.groupby('seller_id')['order_id'].count().reset_index().reset_index()\n",
    "order_count.rename(columns={'order_id': 'order_count'}, inplace=True)\n",
    "\n",
    "# merge order_count dan seller_review\n",
    "sao_paulo_review = sao_paulo_review.merge(order_count[['seller_id', 'order_count']], on='seller_id')\n",
    "sao_paulo_review = sao_paulo_review.sort_values(by='avg_review_score', ascending=True).reset_index()\n",
    "\n",
    "# menggunakan np.floor untuk mengkategorikan avg review score\n",
    "sao_paulo_review['floored_review_score'] = np.floor(sao_paulo_review.avg_review_score)\n",
    "\n",
    "# jumlah seller dengan average review terbanyak\n",
    "review_score_per_seller = sao_paulo_review.groupby('floored_review_score')['seller_id'].count().reset_index()\n",
    "\n",
    "# setting data yg paling tinggi akan memiliki warna berbeda\n",
    "highest = review_score_per_seller.seller_id.max()\n",
    "colors = ['#002F6C' if val == highest else '#DDDDDD' for val in review_score_per_seller.seller_id]\n",
    "\n",
    "# visualisasi\n",
    "fig, ax = plt.subplots(figsize = (8, 5))\n",
    "sns.barplot(data = review_score_per_seller,\n",
    "            x = 'floored_review_score',\n",
    "            y = 'seller_id',\n",
    "            ax = ax,\n",
    "            palette = colors)\n",
    "\n",
    "# memberikan label ke setiap bar\n",
    "for container in ax.containers:\n",
    "    ax.bar_label(container, fontsize=9)\n",
    "\n",
    "# rename x, y axis and title\n",
    "ax.set_title('Seller Count per Average Review Score')\n",
    "ax.set_ylabel('Total Seller')\n",
    "ax.set_xlabel('Average Review Score')\n",
    "\n",
    "# menampilkan bar plot\n",
    "plt.show()"
   ]
  },
  {
   "cell_type": "markdown",
   "id": "1b0d6b27",
   "metadata": {},
   "source": [
    "#### 4. Performa seller dalam memproses pesanan\n",
    "\n",
    "Karena jumlah seller terbanyak berada di state Sao Paulo, maka data akan difilter hanya Seller yang berada di Sao Paulo saja"
   ]
  },
  {
   "cell_type": "code",
   "execution_count": 45,
   "id": "9bb3ff5c",
   "metadata": {
    "scrolled": false
   },
   "outputs": [
    {
     "data": {
      "image/png": "[encoded data removed]",
      "text/plain": [
       "<Figure size 800x500 with 1 Axes>"
      ]
     },
     "metadata": {},
     "output_type": "display_data"
    }
   ],
   "source": [
    "# filtering & aggregating dataframe\n",
    "seller_process_duration = filtered_data[filtered_data.seller_state == 'Sao Paulo']\n",
    "seller_process_duration = seller_process_duration.groupby('process_duration')['order_id'].count().reset_index()\n",
    "seller_process_duration.rename(columns={'order_id': 'order_count_perform'}, inplace=True)\n",
    "\n",
    "# reorder the label\n",
    "x_axis_order = ['< 1 day', '1-2 days', '3-4 days', '5-7 days', '> 7 days']\n",
    "seller_process_duration['process_duration'] = pd.Categorical(seller_process_duration['process_duration'],\n",
    "                                                             categories=x_axis_order, ordered=True)\n",
    "seller_process_duration.sort_values(by='process_duration', inplace=True)\n",
    "\n",
    "# # setting bar color\n",
    "highest = seller_process_duration.order_count_perform.max()\n",
    "colors = ['#002F6C' if val == highest else '#DDDDDD' for val in seller_process_duration.order_count_perform]\n",
    "\n",
    "# visualisasi\n",
    "fig, ax = plt.subplots(figsize = (8, 5))\n",
    "sns.barplot(data = seller_process_duration,\n",
    "            x = 'process_duration',\n",
    "            y = 'order_count_perform',\n",
    "            ax = ax,\n",
    "            palette = colors)\n",
    "\n",
    "# memberikan label ke setiap bar\n",
    "for cont in ax.containers:\n",
    "    label = [f'{total:,.0f}' for total in cont.datavalues]\n",
    "    ax.bar_label(cont, label, fontsize=9)\n",
    "\n",
    "# rename x, y axis and title\n",
    "ax.set_title('Seller Processing Duration in Sao Paulo')\n",
    "ax.set_ylabel('Total Order')\n",
    "ax.set_xlabel('Process Duration')\n",
    "\n",
    "# menampilkan bar plot\n",
    "plt.show()"
   ]
  }
 ],
 "metadata": {
  "kernelspec": {
   "display_name": "Python 3 (ipykernel)",
   "language": "python",
   "name": "python3"
  },
  "language_info": {
   "codemirror_mode": {
    "name": "ipython",
    "version": 3
   },
   "file_extension": ".py",
   "mimetype": "text/x-python",
   "name": "python",
   "nbconvert_exporter": "python",
   "pygments_lexer": "ipython3",
   "version": "3.10.9"
  },
  "widgets": {
   "application/vnd.jupyter.widget-state+json": {
    "state": {},
    "version_major": 2,
    "version_minor": 0
   }
  }
 },
 "nbformat": 4,
 "nbformat_minor": 5
}
